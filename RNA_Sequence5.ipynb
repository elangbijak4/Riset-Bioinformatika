{
  "nbformat": 4,
  "nbformat_minor": 0,
  "metadata": {
    "colab": {
      "provenance": [],
      "authorship_tag": "ABX9TyMHqvHJ3sE0sY7BiHpQ+kEp",
      "include_colab_link": true
    },
    "kernelspec": {
      "name": "python3",
      "display_name": "Python 3"
    },
    "language_info": {
      "name": "python"
    }
  },
  "cells": [
    {
      "cell_type": "markdown",
      "metadata": {
        "id": "view-in-github",
        "colab_type": "text"
      },
      "source": [
        "<a href=\"https://colab.research.google.com/github/elangbijak4/Riset-Bioinformatika/blob/main/RNA_Sequence5.ipynb\" target=\"_parent\"><img src=\"https://colab.research.google.com/assets/colab-badge.svg\" alt=\"Open In Colab\"/></a>"
      ]
    },
    {
      "cell_type": "code",
      "execution_count": 1,
      "metadata": {
        "colab": {
          "base_uri": "https://localhost:8080/"
        },
        "id": "wb1KqHMJqUAA",
        "outputId": "41672298-2d8a-4848-b7d5-ad7ea220a0a2"
      },
      "outputs": [
        {
          "output_type": "stream",
          "name": "stdout",
          "text": [
            "Objective 1 (Minimize mismatches): 17\n",
            "Objective 2 (Minimize gap penalties): 3\n",
            "Objective 3 (Maximize alignment score): 42\n",
            "Objective 4 (Minimize computational cost): 10.75055681536833\n",
            "Objective 5 (Minimize fragment count): 5\n",
            "Objective 6 (Maximize structural consistency): 6\n",
            "Objective 7 (Maximize biological motifs): 3\n",
            "Objective 8 (Maximize clarity): 3.1666666666666665\n",
            "Objective 9 (Maximize diversity): 29\n"
          ]
        }
      ],
      "source": [
        "import numpy as np\n",
        "from itertools import combinations\n",
        "\n",
        "# Sample RNA sequences\n",
        "sequences = [\"AUGCUA\", \"AUGCGA\", \"A-CGUA\", \"AUGC--\"]\n",
        "\n",
        "# Scoring Matrix (for simplicity)\n",
        "scoring_matrix = {\n",
        "    ('A', 'A'): 2, ('A', 'U'): 1, ('A', 'C'): -1, ('A', 'G'): -1,\n",
        "    ('U', 'A'): 1, ('U', 'U'): 2, ('U', 'C'): -1, ('U', 'G'): -1,\n",
        "    ('C', 'A'): -1, ('C', 'U'): -1, ('C', 'C'): 2, ('C', 'G'): 1,\n",
        "    ('G', 'A'): -1, ('G', 'U'): -1, ('G', 'C'): 1, ('G', 'G'): 2,\n",
        "}\n",
        "\n",
        "def delta(seq1, seq2):\n",
        "    return sum(1 for a, b in zip(seq1, seq2) if a != b)\n",
        "\n",
        "def gap_penalty(seq):\n",
        "    return seq.count('-')\n",
        "\n",
        "def alignment_score(seq1, seq2):\n",
        "    return sum(scoring_matrix.get((a, b), -2) for a, b in zip(seq1, seq2) if a != '-' and b != '-')\n",
        "\n",
        "# Objective Functions\n",
        "# 1. Minimize mismatches\n",
        "f1 = sum(delta(seq1, seq2) for seq1, seq2 in combinations(sequences, 2))\n",
        "\n",
        "# 2. Minimize gap penalties\n",
        "f2 = sum(gap_penalty(seq) for seq in sequences)\n",
        "\n",
        "# 3. Maximize alignment score\n",
        "f3 = sum(alignment_score(seq1, seq2) for seq1, seq2 in combinations(sequences, 2))\n",
        "\n",
        "# 4. Minimize computational cost\n",
        "n = len(sequences[0])  # Length of sequences\n",
        "f4 = n * np.log(n)  # Example computational cost formula\n",
        "\n",
        "# 5. Minimize fragment count\n",
        "f5 = sum(len([frag for frag in seq.split('-') if frag]) for seq in sequences)\n",
        "\n",
        "# 6. Maximize structural consistency\n",
        "def structural_consistency(seq1, seq2):\n",
        "    pairs = [(i, j) for i, j in zip(seq1, seq2) if (i, j) in [('A', 'U'), ('U', 'A'), ('C', 'G'), ('G', 'C')]]\n",
        "    return len(pairs)\n",
        "\n",
        "f6 = sum(structural_consistency(seq1, seq2) for seq1, seq2 in combinations(sequences, 2))\n",
        "\n",
        "# 7. Maximize biological motifs\n",
        "def count_motifs(seq, motif):\n",
        "    return seq.count(motif)\n",
        "\n",
        "motif = \"AUG\"\n",
        "f7 = sum(count_motifs(seq, motif) for seq in sequences)\n",
        "\n",
        "# 8. Maximize clarity\n",
        "def clarity(seq1, seq2):\n",
        "    matches = sum(1 for a, b in zip(seq1, seq2) if a == b)\n",
        "    return matches / len(seq1)\n",
        "\n",
        "f8 = sum(clarity(seq1, seq2) for seq1, seq2 in combinations(sequences, 2))\n",
        "\n",
        "# 9. Maximize diversity\n",
        "def sequence_diversity(seq1, seq2):\n",
        "    return len(set(seq1).union(set(seq2)))\n",
        "\n",
        "f9 = sum(sequence_diversity(seq1, seq2) for seq1, seq2 in combinations(sequences, 2))\n",
        "\n",
        "# Display Results\n",
        "print(f\"Objective 1 (Minimize mismatches): {f1}\")\n",
        "print(f\"Objective 2 (Minimize gap penalties): {f2}\")\n",
        "print(f\"Objective 3 (Maximize alignment score): {f3}\")\n",
        "print(f\"Objective 4 (Minimize computational cost): {f4}\")\n",
        "print(f\"Objective 5 (Minimize fragment count): {f5}\")\n",
        "print(f\"Objective 6 (Maximize structural consistency): {f6}\")\n",
        "print(f\"Objective 7 (Maximize biological motifs): {f7}\")\n",
        "print(f\"Objective 8 (Maximize clarity): {f8}\")\n",
        "print(f\"Objective 9 (Maximize diversity): {f9}\")"
      ]
    }
  ]
}