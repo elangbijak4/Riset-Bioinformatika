{
  "nbformat": 4,
  "nbformat_minor": 0,
  "metadata": {
    "colab": {
      "provenance": [],
      "authorship_tag": "ABX9TyPLchFO4QpFyUgPfFurznEo",
      "include_colab_link": true
    },
    "kernelspec": {
      "name": "python3",
      "display_name": "Python 3"
    },
    "language_info": {
      "name": "python"
    }
  },
  "cells": [
    {
      "cell_type": "markdown",
      "metadata": {
        "id": "view-in-github",
        "colab_type": "text"
      },
      "source": [
        "<a href=\"https://colab.research.google.com/github/elangbijak4/Riset-Bioinformatika/blob/main/RNAMSA_Alignment_with_EAFSA.ipynb\" target=\"_parent\"><img src=\"https://colab.research.google.com/assets/colab-badge.svg\" alt=\"Open In Colab\"/></a>"
      ]
    },
    {
      "cell_type": "code",
      "execution_count": 1,
      "metadata": {
        "colab": {
          "base_uri": "https://localhost:8080/"
        },
        "id": "L9v3zZpbeh7k",
        "outputId": "7c66bec8-1e2e-4a1a-b2a2-b71edb59d98b"
      },
      "outputs": [
        {
          "output_type": "stream",
          "name": "stdout",
          "text": [
            "Pairwise Alignment Scores (EAFSA):\n",
            "Sequence 0 vs Sequence 1: 0\n",
            "Sequence 0 vs Sequence 2: 2\n",
            "Sequence 1 vs Sequence 2: 1\n"
          ]
        }
      ],
      "source": [
        "# RNAMSA Alignment with EAFSA (Enhanced Adaptive Filter Suffix Array)\n",
        "\n",
        "# Step 1: Create a suffix array with filtering\n",
        "def build_eafsa(sequence):\n",
        "    suffixes = [(sequence[i:], i) for i in range(len(sequence))]\n",
        "    filtered_suffixes = [suffix for suffix in suffixes if \"A\" in suffix[0] or \"G\" in suffix[0]]  # Adaptive filter\n",
        "    sorted_suffixes = sorted(filtered_suffixes, key=lambda x: x[0])\n",
        "    return [suffix[1] for suffix in sorted_suffixes]\n",
        "\n",
        "# Step 2: Perform pairwise alignment using EAFSA\n",
        "def align_with_eafsa(rna_sequences):\n",
        "    alignments = {}\n",
        "    for i in range(len(rna_sequences)):\n",
        "        for j in range(i + 1, len(rna_sequences)):\n",
        "            seq1, seq2 = rna_sequences[i], rna_sequences[j]\n",
        "            suffix_array = build_eafsa(seq1)\n",
        "            match_score = sum([1 for k in suffix_array if seq2.startswith(seq1[k:])])\n",
        "            alignments[(i, j)] = match_score\n",
        "    return alignments\n",
        "\n",
        "# Step 3: Test with example RNA sequences\n",
        "rna_sequences = [\n",
        "    \"AGCUAGUCA\",\n",
        "    \"GCUAGUC\",\n",
        "    \"AGUCA\"\n",
        "]\n",
        "\n",
        "alignments = align_with_eafsa(rna_sequences)\n",
        "print(\"Pairwise Alignment Scores (EAFSA):\")\n",
        "for pair, score in alignments.items():\n",
        "    print(f\"Sequence {pair[0]} vs Sequence {pair[1]}: {score}\")"
      ]
    }
  ]
}