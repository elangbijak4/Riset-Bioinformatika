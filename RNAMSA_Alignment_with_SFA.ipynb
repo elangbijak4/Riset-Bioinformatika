{
  "nbformat": 4,
  "nbformat_minor": 0,
  "metadata": {
    "colab": {
      "provenance": [],
      "authorship_tag": "ABX9TyPPfdb0HDhDyMPLTlydvH6j",
      "include_colab_link": true
    },
    "kernelspec": {
      "name": "python3",
      "display_name": "Python 3"
    },
    "language_info": {
      "name": "python"
    }
  },
  "cells": [
    {
      "cell_type": "markdown",
      "metadata": {
        "id": "view-in-github",
        "colab_type": "text"
      },
      "source": [
        "<a href=\"https://colab.research.google.com/github/elangbijak4/Riset-Bioinformatika/blob/main/RNAMSA_Alignment_with_SFA.ipynb\" target=\"_parent\"><img src=\"https://colab.research.google.com/assets/colab-badge.svg\" alt=\"Open In Colab\"/></a>"
      ]
    },
    {
      "cell_type": "code",
      "execution_count": 2,
      "metadata": {
        "colab": {
          "base_uri": "https://localhost:8080/"
        },
        "id": "L9v3zZpbeh7k",
        "outputId": "540d9466-5fa2-45e2-ced1-3380d5d06ffa"
      },
      "outputs": [
        {
          "output_type": "stream",
          "name": "stdout",
          "text": [
            "Pairwise Alignment Scores (SFA):\n",
            "Sequence 0 vs Sequence 1: 0\n",
            "Sequence 0 vs Sequence 2: 2\n",
            "Sequence 1 vs Sequence 2: 1\n"
          ]
        }
      ],
      "source": [
        "# RNAMSA Alignment with SFA (Suffix Array)\n",
        "\n",
        "# Step 1: Create a suffix array function\n",
        "def build_suffix_array(sequence):\n",
        "    suffixes = [(sequence[i:], i) for i in range(len(sequence))]\n",
        "    sorted_suffixes = sorted(suffixes, key=lambda x: x[0])\n",
        "    return [suffix[1] for suffix in sorted_suffixes]\n",
        "\n",
        "# Step 2: Perform pairwise alignment using suffix array\n",
        "def align_with_sfa(rna_sequences):\n",
        "    alignments = {}\n",
        "    for i in range(len(rna_sequences)):\n",
        "        for j in range(i + 1, len(rna_sequences)):\n",
        "            seq1, seq2 = rna_sequences[i], rna_sequences[j]\n",
        "            suffix_array = build_suffix_array(seq1)\n",
        "            match_score = sum([1 for k in suffix_array if seq2.startswith(seq1[k:])])\n",
        "            alignments[(i, j)] = match_score\n",
        "    return alignments\n",
        "\n",
        "# Step 3: Test with example RNA sequences\n",
        "rna_sequences = [\n",
        "    \"AGCUAGUCA\",\n",
        "    \"GCUAGUC\",\n",
        "    \"AGUCA\"\n",
        "]\n",
        "\n",
        "alignments = align_with_sfa(rna_sequences)\n",
        "print(\"Pairwise Alignment Scores (SFA):\")\n",
        "for pair, score in alignments.items():\n",
        "    print(f\"Sequence {pair[0]} vs Sequence {pair[1]}: {score}\")"
      ]
    }
  ]
}