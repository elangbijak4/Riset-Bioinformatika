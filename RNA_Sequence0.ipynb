{
  "nbformat": 4,
  "nbformat_minor": 0,
  "metadata": {
    "colab": {
      "provenance": [],
      "authorship_tag": "ABX9TyOAOGhIAbd0xz8xs1zuwBqs",
      "include_colab_link": true
    },
    "kernelspec": {
      "name": "python3",
      "display_name": "Python 3"
    },
    "language_info": {
      "name": "python"
    }
  },
  "cells": [
    {
      "cell_type": "markdown",
      "metadata": {
        "id": "view-in-github",
        "colab_type": "text"
      },
      "source": [
        "<a href=\"https://colab.research.google.com/github/elangbijak4/Riset-Bioinformatika/blob/main/RNA_Sequence0.ipynb\" target=\"_parent\"><img src=\"https://colab.research.google.com/assets/colab-badge.svg\" alt=\"Open In Colab\"/></a>"
      ]
    },
    {
      "cell_type": "code",
      "execution_count": 1,
      "metadata": {
        "colab": {
          "base_uri": "https://localhost:8080/"
        },
        "id": "tvNuDwlOcFyE",
        "outputId": "c81037f8-5ed9-4554-8633-65657073ce8d"
      },
      "outputs": [
        {
          "output_type": "stream",
          "name": "stdout",
          "text": [
            "PAM-based edit distance: 10.8198\n",
            "Jukes-Cantor evolutionary distance: 0.2326\n",
            "Motif 'AUGGCU' found at positions: [7]\n"
          ]
        }
      ],
      "source": [
        "# Import necessary libraries\n",
        "import numpy as np\n",
        "import itertools\n",
        "\n",
        "# Example: PAM-like matrix for nucleotides\n",
        "# Probabilities of substitutions (A, C, G, U)\n",
        "PAM = {\n",
        "    'A': {'A': 0.9, 'C': 0.03, 'G': 0.05, 'U': 0.02},\n",
        "    'C': {'A': 0.03, 'C': 0.9, 'G': 0.02, 'U': 0.05},\n",
        "    'G': {'A': 0.05, 'C': 0.02, 'G': 0.9, 'U': 0.03},\n",
        "    'U': {'A': 0.02, 'C': 0.05, 'G': 0.03, 'U': 0.9}\n",
        "}\n",
        "\n",
        "# Compute PAM-based edit distance between two RNA sequences\n",
        "def pam_edit_distance(seq1, seq2, pam_matrix):\n",
        "    distance = 0\n",
        "    for a, b in zip(seq1, seq2):\n",
        "        if a != b:\n",
        "            distance += -np.log(pam_matrix[a][b])\n",
        "    return distance\n",
        "\n",
        "# Example sequences\n",
        "seq1 = \"AUGCCCUAUGGCUAG\"\n",
        "seq2 = \"AUGCGCUAUGGCAG\"\n",
        "distance = pam_edit_distance(seq1, seq2, PAM)\n",
        "print(f\"PAM-based edit distance: {distance:.4f}\")\n",
        "\n",
        "# Jukes-Cantor Model for evolutionary distance\n",
        "def jukes_cantor_distance(seq1, seq2):\n",
        "    p = sum(a != b for a, b in zip(seq1, seq2)) / len(seq1)\n",
        "    return -3 / 4 * np.log(1 - 4 / 3 * p)\n",
        "\n",
        "evolutionary_distance = jukes_cantor_distance(seq1, seq2)\n",
        "print(f\"Jukes-Cantor evolutionary distance: {evolutionary_distance:.4f}\")\n",
        "\n",
        "# Identifying motifs (simple exact matching)\n",
        "def find_motifs(sequence, motif):\n",
        "    positions = [i for i in range(len(sequence) - len(motif) + 1) if sequence[i:i+len(motif)] == motif]\n",
        "    return positions\n",
        "\n",
        "motif = \"AUGGCU\"\n",
        "motif_positions = find_motifs(seq1, motif)\n",
        "print(f\"Motif '{motif}' found at positions: {motif_positions}\")\n",
        "\n",
        "# Example output interpretation\n",
        "# Run this code in Google Colab or any Python environment to observe the results."
      ]
    }
  ]
}