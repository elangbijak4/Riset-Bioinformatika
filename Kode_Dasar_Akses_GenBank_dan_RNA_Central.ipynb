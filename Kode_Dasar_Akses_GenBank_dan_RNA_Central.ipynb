{
  "nbformat": 4,
  "nbformat_minor": 0,
  "metadata": {
    "colab": {
      "provenance": [],
      "authorship_tag": "ABX9TyNYC2xjC56dUs7zjS72isbH",
      "include_colab_link": true
    },
    "kernelspec": {
      "name": "python3",
      "display_name": "Python 3"
    },
    "language_info": {
      "name": "python"
    }
  },
  "cells": [
    {
      "cell_type": "markdown",
      "metadata": {
        "id": "view-in-github",
        "colab_type": "text"
      },
      "source": [
        "<a href=\"https://colab.research.google.com/github/elangbijak4/Riset-Bioinformatika/blob/main/Kode_Dasar_Akses_GenBank_dan_RNA_Central.ipynb\" target=\"_parent\"><img src=\"https://colab.research.google.com/assets/colab-badge.svg\" alt=\"Open In Colab\"/></a>"
      ]
    },
    {
      "cell_type": "code",
      "execution_count": 1,
      "metadata": {
        "colab": {
          "base_uri": "https://localhost:8080/"
        },
        "id": "QpBh2NhLk_IF",
        "outputId": "db6dce64-7062-4596-f660-ee869ea5ffe6"
      },
      "outputs": [
        {
          "output_type": "stream",
          "name": "stdout",
          "text": [
            "Collecting biopython\n",
            "  Downloading biopython-1.85-cp311-cp311-manylinux_2_17_x86_64.manylinux2014_x86_64.whl.metadata (13 kB)\n",
            "Requirement already satisfied: requests in /usr/local/lib/python3.11/dist-packages (2.32.3)\n",
            "Requirement already satisfied: numpy in /usr/local/lib/python3.11/dist-packages (from biopython) (1.26.4)\n",
            "Requirement already satisfied: charset-normalizer<4,>=2 in /usr/local/lib/python3.11/dist-packages (from requests) (3.4.1)\n",
            "Requirement already satisfied: idna<4,>=2.5 in /usr/local/lib/python3.11/dist-packages (from requests) (3.10)\n",
            "Requirement already satisfied: urllib3<3,>=1.21.1 in /usr/local/lib/python3.11/dist-packages (from requests) (2.3.0)\n",
            "Requirement already satisfied: certifi>=2017.4.17 in /usr/local/lib/python3.11/dist-packages (from requests) (2024.12.14)\n",
            "Downloading biopython-1.85-cp311-cp311-manylinux_2_17_x86_64.manylinux2014_x86_64.whl (3.3 MB)\n",
            "\u001b[2K   \u001b[90m━━━━━━━━━━━━━━━━━━━━━━━━━━━━━━━━━━━━━━━━\u001b[0m \u001b[32m3.3/3.3 MB\u001b[0m \u001b[31m39.5 MB/s\u001b[0m eta \u001b[36m0:00:00\u001b[0m\n",
            "\u001b[?25hInstalling collected packages: biopython\n",
            "Successfully installed biopython-1.85\n"
          ]
        }
      ],
      "source": [
        "!pip install biopython requests"
      ]
    },
    {
      "cell_type": "code",
      "source": [
        "# Import necessary libraries\n",
        "from Bio import Entrez\n",
        "import requests\n",
        "\n",
        "# 1. Access GenBank using Biopython\n",
        "def fetch_genbank_data(accession_id):\n",
        "    \"\"\"\n",
        "    Fetch data from GenBank using an accession ID.\n",
        "    \"\"\"\n",
        "    Entrez.email = \"your_email@example.com\"  # Replace with your email\n",
        "    with Entrez.efetch(db=\"nucleotide\", id=accession_id, rettype=\"gb\", retmode=\"text\") as handle:\n",
        "        record = handle.read()\n",
        "    return record\n",
        "\n",
        "# Example: Fetching a specific GenBank record\n",
        "genbank_accession = \"MN908947\"  # Example accession ID (SARS-CoV-2 complete genome)\n",
        "genbank_record = fetch_genbank_data(genbank_accession)\n",
        "print(\"Example Data from GenBank:\\n\")\n",
        "print(genbank_record[:1000])  # Print the first 1000 characters\n",
        "\n",
        "# 2. Access RNAcentral using their REST API\n",
        "def fetch_rnacentral_data(entry_id):\n",
        "    \"\"\"\n",
        "    Fetch data from RNAcentral using their REST API.\n",
        "    \"\"\"\n",
        "    url = f\"https://rnacentral.org/api/v1/rna/{entry_id}/\"\n",
        "    response = requests.get(url)\n",
        "    if response.status_code == 200:\n",
        "        return response.json()\n",
        "    else:\n",
        "        return {\"error\": f\"Failed to fetch data for ID {entry_id}\"}\n",
        "\n",
        "# Example: Fetching a specific RNAcentral record\n",
        "rnacentral_entry = \"URS000075C6A1\"  # Example RNAcentral ID\n",
        "rnacentral_record = fetch_rnacentral_data(rnacentral_entry)\n",
        "print(\"\\nExample Data from RNAcentral:\\n\")\n",
        "print(rnacentral_record)\n",
        "\n",
        "# Format RNAcentral data for readability\n",
        "if \"error\" not in rnacentral_record:\n",
        "    print(f\"\\nRNA Name: {rnacentral_record.get('rnacentral_id', 'N/A')}\")\n",
        "    print(f\"RNA Sequence: {rnacentral_record.get('sequence', 'N/A')[:100]}...\")  # Print first 100 bases\n",
        "    print(f\"Length: {rnacentral_record.get('length', 'N/A')} bases\")"
      ],
      "metadata": {
        "colab": {
          "base_uri": "https://localhost:8080/"
        },
        "id": "JAIE0UU2lbdz",
        "outputId": "6556df4c-b67e-4bf7-cf78-546daf805c54"
      },
      "execution_count": 2,
      "outputs": [
        {
          "output_type": "stream",
          "name": "stdout",
          "text": [
            "Example Data from GenBank:\n",
            "\n",
            "LOCUS       MN908947               29903 bp ss-RNA     linear   VRL 18-MAR-2020\n",
            "DEFINITION  Severe acute respiratory syndrome coronavirus 2 isolate Wuhan-Hu-1,\n",
            "            complete genome.\n",
            "ACCESSION   MN908947\n",
            "VERSION     MN908947.3\n",
            "KEYWORDS    .\n",
            "SOURCE      Severe acute respiratory syndrome coronavirus 2 (SARS-CoV-2)\n",
            "  ORGANISM  Severe acute respiratory syndrome coronavirus 2\n",
            "            Viruses; Riboviria; Orthornavirae; Pisuviricota; Pisoniviricetes;\n",
            "            Nidovirales; Cornidovirineae; Coronaviridae; Orthocoronavirinae;\n",
            "            Betacoronavirus; Sarbecovirus; Severe acute respiratory\n",
            "            syndrome-related coronavirus.\n",
            "REFERENCE   1  (bases 1 to 29903)\n",
            "  AUTHORS   Wu,F., Zhao,S., Yu,B., Chen,Y.M., Wang,W., Song,Z.G., Hu,Y.,\n",
            "            Tao,Z.W., Tian,J.H., Pei,Y.Y., Yuan,M.L., Zhang,Y.L., Dai,F.H.,\n",
            "            Liu,Y., Wang,Q.M., Zheng,J.J., Xu,L., Holmes,E.C. and Zhang,Y.Z.\n",
            "  TITLE     A new coronavirus associated with human respiratory disease in\n",
            "            China\n",
            "  \n",
            "\n",
            "Example Data from RNAcentral:\n",
            "\n",
            "{'url': 'http://rnacentral.org/api/v1/rna/URS000075C6A1', 'rnacentral_id': 'URS000075C6A1', 'md5': '8f5acaf49770d74f492165e9d3d0a721', 'sequence': 'AGAGUGUAAACAGCUCAGAUGAGAGUCUGCCUAUUAGGCACUUAAAACAAUAUUGAGACUGAAGAUCUUGUGCCUUUCUUCCAACACAAUUCAUUGAUUCUGCAGUGGAAGUGAUUUUAUUGAUUAGGUAGUCUUUCCUUCUCAAGUCAAGGGAGACAAGCUCAAGGAAGAGAUAAAGUCAAGCAAGCUUGACCCACACUCCUGUGCUUCACAGGGACCCCUGGCCUCAGGCUAGUGCCACCAUCUUCAGGGUGGGUCUCUCAGCUUCAACUAAACCCCCAUGUUGACAUACCCAGAAGCAUGUCUCCCAGGAGAUUUUAAAUCUAGGCAGUGCCUAGAAGGUCUGGAUCAUGGCUGCAUCUUCGUAGCUGUGUUUUCAAAUGAUACAUCAGCAUGCUCCCAUCUCAUGGCAUCACCAGAACCAGCACCAUCCUUCAUGAUCCUCAUACUUCCUGGUUUAGAAGAUCAAAAGCUGCCAAAAAUUGUUUCAAAAGAAAAAUAAAUCUGAGAGAAGUUGAGUUCGGAAUUACAAGGGAGCUUGCCUGUGUCCACUACUCAAGGAGCCAAGUAAGAGGGGCUUGCACUGCAGAGCUGGCCUCUCUUCUCUGUUCCCCGAGCACCUAAGAAGCCCUCACUUAGCCUUAUCUCAUGAAGUCUAAUGAGACUAGUUCCCAAAUUAAACUUCACACAAAUGGAGCAGGCAGGAUCAUUUUCCAAAGAGUGUUUAGAAUAAAUGUCUGUCAGUUCCUGGCUAGCCCUACUUAAAUCUGGAAGAUGAGUUUGCAGACUUAAGAGCUUUGAAUGAAGAACUCAGGCUUCCUUUGGGAUCUAAACUCUGUCUCUCUGAGUCAUUGUUUCUCUCUCUCUCUUACACACACACACACACACACACACACACACACACACAGAGGUACACACACAGACACACACAUACACAAACACACACAUACACAAACACACACAUACACAGACACACACAUACACAGAGAGAGACACACAGAGAGACACACACACACAUACCUAUCACAGGUACCUUUCAGUAUUUCCAUUUUACCUGUUAAGGGUCUGACCAAGGCCAGUGACGCUUCCUAUCUUGACCUGGGAUGGUCACCGGAUUGGGAUCCUUGUCCCUUCAUGUUUCUUGUAGACAUUGAAUUUUGAAGAAGAAUCAGGUCUUAGGAACUAAAGGUAAGACCCUCAUGGGUAGAGAUUGGGCAACUGCUUGAAGACAGAAAUCUAAGAAGGAGGAGAAGAUUCAACACCUCCCAAGAUGUCCUGGGAUGAAGAUGAGAUUGGGUAGAGAACUUCAAGUACAUGGUCCCCACGUCCUAAUGCCUUGGGACUCACUAUUGGAGGUAGAUCUUCCUCCAACCACUAAUUCAGCUGUCUGUAAGAUUCCACACAAAAAAUUAGAUACUAAUAGUUAGAAAAUGCCCAGCAAAACAGUUUAGUGGCAGAAAAAUUAGAAAAUAAUGUCAUAAAUGAAGAAAAAUUAGCAUCAUCUAUAAACCUCUUCCAGUCUGAGAACACAGGGGCAACAUUCAAUAUCAUAUUAAAUUGUGGGUGUGCUCUGAUAUUACAUAUGACAUGCUAGUCAUAUAUACAAAAGCAUGUGUGUGUGUAUGUGCACAGUACAAGCUAUUGCAUGUAUUGAUAAGCCCCACCUUAUGAAAUGUCAGCCUCUGAUUCUUUGAGCUUUCUUUAUAUUGAUGCAAAAGCAGUGACUGUUUGGUGGAAACUCCCAUUCAGUUUUGAAUUUGGACUUUUUUUCUUGGCUGUACUAUAAUAAUCAAAAUUCAACCACUAAUACUAAUUAGUAAUUCCUCC', 'length': 1827, 'xrefs': 'http://rnacentral.org/api/v1/rna/URS000075C6A1/xrefs', 'publications': 'http://rnacentral.org/api/v1/rna/URS000075C6A1/publications', 'is_active': True, 'description': 'lncRNA from 1 species', 'rna_type': 'lncRNA', 'count_distinct_organisms': 1, 'distinct_databases': ['Ensembl', 'Ensembl/GENCODE', 'MGI', 'NONCODE', 'RefSeq']}\n",
            "\n",
            "RNA Name: URS000075C6A1\n",
            "RNA Sequence: AGAGUGUAAACAGCUCAGAUGAGAGUCUGCCUAUUAGGCACUUAAAACAAUAUUGAGACUGAAGAUCUUGUGCCUUUCUUCCAACACAAUUCAUUGAUUC...\n",
            "Length: 1827 bases\n"
          ]
        }
      ]
    }
  ]
}