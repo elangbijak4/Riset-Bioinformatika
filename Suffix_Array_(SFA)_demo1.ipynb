{
  "nbformat": 4,
  "nbformat_minor": 0,
  "metadata": {
    "colab": {
      "provenance": [],
      "authorship_tag": "ABX9TyO1se6DAWyr6Bdjyeo7wI7r",
      "include_colab_link": true
    },
    "kernelspec": {
      "name": "python3",
      "display_name": "Python 3"
    },
    "language_info": {
      "name": "python"
    }
  },
  "cells": [
    {
      "cell_type": "markdown",
      "metadata": {
        "id": "view-in-github",
        "colab_type": "text"
      },
      "source": [
        "<a href=\"https://colab.research.google.com/github/elangbijak4/Riset-Bioinformatika/blob/main/Suffix_Array_(SFA)_demo1.ipynb\" target=\"_parent\"><img src=\"https://colab.research.google.com/assets/colab-badge.svg\" alt=\"Open In Colab\"/></a>"
      ]
    },
    {
      "cell_type": "code",
      "execution_count": 1,
      "metadata": {
        "id": "eEO7bCNSL3p1"
      },
      "outputs": [],
      "source": [
        "# RNA Sequence\n",
        "sequence = \"AGCU\"\n",
        "\n",
        "# Step 1: Generate all suffixes\n",
        "suffixes = [(sequence[i:], i) for i in range(len(sequence))]"
      ]
    },
    {
      "cell_type": "code",
      "source": [
        "suffixes"
      ],
      "metadata": {
        "colab": {
          "base_uri": "https://localhost:8080/"
        },
        "id": "bWZx12r9MOvt",
        "outputId": "aca28281-cc1d-4e9b-f57f-e0bb123dd23a"
      },
      "execution_count": 2,
      "outputs": [
        {
          "output_type": "execute_result",
          "data": {
            "text/plain": [
              "[('AGCU', 0), ('GCU', 1), ('CU', 2), ('U', 3)]"
            ]
          },
          "metadata": {},
          "execution_count": 2
        }
      ]
    },
    {
      "cell_type": "code",
      "source": [
        "# Step 2: Sort suffixes lexicographically\n",
        "sorted_suffixes = sorted(suffixes, key=lambda x: x[0])"
      ],
      "metadata": {
        "id": "LLaswjVqMDWE"
      },
      "execution_count": 3,
      "outputs": []
    },
    {
      "cell_type": "code",
      "source": [
        "sorted_suffixes"
      ],
      "metadata": {
        "colab": {
          "base_uri": "https://localhost:8080/"
        },
        "id": "Yr-kIjLMMVl5",
        "outputId": "dea589e9-2f5c-4e84-f4f7-d8414fc812ca"
      },
      "execution_count": 4,
      "outputs": [
        {
          "output_type": "execute_result",
          "data": {
            "text/plain": [
              "[('AGCU', 0), ('CU', 2), ('GCU', 1), ('U', 3)]"
            ]
          },
          "metadata": {},
          "execution_count": 4
        }
      ]
    },
    {
      "cell_type": "code",
      "source": [
        "# Step 3: Extract the sorted indices\n",
        "suffix_array = [suffix[1] for suffix in sorted_suffixes]"
      ],
      "metadata": {
        "id": "MzumvjBqMEca"
      },
      "execution_count": 5,
      "outputs": []
    },
    {
      "cell_type": "code",
      "source": [
        "suffix_array"
      ],
      "metadata": {
        "colab": {
          "base_uri": "https://localhost:8080/"
        },
        "id": "O00a3pdoMg9G",
        "outputId": "a09980eb-fade-471a-b41b-654b6be3efdf"
      },
      "execution_count": 6,
      "outputs": [
        {
          "output_type": "execute_result",
          "data": {
            "text/plain": [
              "[0, 2, 1, 3]"
            ]
          },
          "metadata": {},
          "execution_count": 6
        }
      ]
    },
    {
      "cell_type": "code",
      "source": [
        "# Output\n",
        "print(\"Suffixes (Unsorted):\", suffixes)\n",
        "print(\"Suffixes (Sorted):\", sorted_suffixes)\n",
        "print(\"Suffix Array:\", suffix_array)"
      ],
      "metadata": {
        "colab": {
          "base_uri": "https://localhost:8080/"
        },
        "id": "HQM9ubkcMFx6",
        "outputId": "4c8c4325-9a67-4dda-8543-6bf81a25429c"
      },
      "execution_count": 7,
      "outputs": [
        {
          "output_type": "stream",
          "name": "stdout",
          "text": [
            "Suffixes (Unsorted): [('AGCU', 0), ('GCU', 1), ('CU', 2), ('U', 3)]\n",
            "Suffixes (Sorted): [('AGCU', 0), ('CU', 2), ('GCU', 1), ('U', 3)]\n",
            "Suffix Array: [0, 2, 1, 3]\n"
          ]
        }
      ]
    },
    {
      "cell_type": "code",
      "source": [],
      "metadata": {
        "id": "f14QC0W0MloY"
      },
      "execution_count": null,
      "outputs": []
    }
  ]
}