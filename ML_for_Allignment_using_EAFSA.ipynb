{
  "nbformat": 4,
  "nbformat_minor": 0,
  "metadata": {
    "colab": {
      "provenance": [],
      "authorship_tag": "ABX9TyM2Wp4b7mQ1VPImVtIojcSt",
      "include_colab_link": true
    },
    "kernelspec": {
      "name": "python3",
      "display_name": "Python 3"
    },
    "language_info": {
      "name": "python"
    }
  },
  "cells": [
    {
      "cell_type": "markdown",
      "metadata": {
        "id": "view-in-github",
        "colab_type": "text"
      },
      "source": [
        "<a href=\"https://colab.research.google.com/github/elangbijak4/Riset-Bioinformatika/blob/main/ML_for_Allignment_using_EAFSA.ipynb\" target=\"_parent\"><img src=\"https://colab.research.google.com/assets/colab-badge.svg\" alt=\"Open In Colab\"/></a>"
      ]
    },
    {
      "cell_type": "code",
      "execution_count": 6,
      "metadata": {
        "colab": {
          "base_uri": "https://localhost:8080/"
        },
        "id": "L9v3zZpbeh7k",
        "outputId": "59900b1e-f5d0-4ec1-b4b1-ebd51d5ebc34"
      },
      "outputs": [
        {
          "output_type": "stream",
          "name": "stdout",
          "text": [
            "Filtered Suffixes: ['A', 'AGCUAGUCA', 'AGUCA', 'CA', 'CUAGUCA', 'GCUAGUCA', 'GUCA', 'UAGUCA', 'UCA']\n",
            "Aligned Sequences:\n",
            "Seq1: A-AGUCACACUAGUCAGCUAGUCAGUCAUAGUCAUCA\n",
            "Seq2: A-AGUCACACUAGUCAGCUAGUCAGUCAUAGUCAUCA\n"
          ]
        }
      ],
      "source": [
        "# Import libraries\n",
        "import numpy as np\n",
        "from sklearn.linear_model import LogisticRegression\n",
        "from sklearn.feature_extraction.text import CountVectorizer\n",
        "from sklearn.model_selection import train_test_split\n",
        "\n",
        "# Sample RNA sequences and labels\n",
        "rna_sequences = [\"AGCUAGUCA\", \"GCUAGUC\", \"AGUCA\", \"AAGCUAGU\", \"GGCUAGCUA\"]\n",
        "labels = [1, 0, 1, 1, 0]  # Binary labels indicating biological relevance\n",
        "\n",
        "# Step 1: Build suffix array\n",
        "def build_suffix_array(sequence):\n",
        "    suffixes = [(sequence[i:], i) for i in range(len(sequence))]\n",
        "    sorted_suffixes = sorted(suffixes, key=lambda x: x[0])\n",
        "    return [suffix[0] for suffix in sorted_suffixes]\n",
        "\n",
        "# Step 2: Extract suffix features\n",
        "def extract_suffix_features(sequences):\n",
        "    all_suffixes = []\n",
        "    for seq in sequences:\n",
        "        suffixes = build_suffix_array(seq)\n",
        "        all_suffixes.append(\" \".join(suffixes))  # Join suffixes as a single string\n",
        "    return all_suffixes\n",
        "\n",
        "suffix_features = extract_suffix_features(rna_sequences)\n",
        "\n",
        "# Step 3: Convert suffix features to numerical representation\n",
        "vectorizer = CountVectorizer()\n",
        "X = vectorizer.fit_transform(suffix_features)\n",
        "\n",
        "# Step 4: Split data and ensure both classes are present in training data\n",
        "X_train, X_test, y_train, y_test = train_test_split(X, labels, test_size=0.3, random_state=42, stratify=labels)\n",
        "\n",
        "# Step 5: Train Logistic Regression for adaptive filtering\n",
        "model = LogisticRegression()\n",
        "model.fit(X_train, y_train)\n",
        "\n",
        "# Step 6: Filtering suffix array using ML\n",
        "def filter_with_model(sequence, model, vectorizer):\n",
        "    suffixes = build_suffix_array(sequence)\n",
        "    suffix_features = [\" \".join(suffixes)]\n",
        "    X_suffix = vectorizer.transform(suffix_features)\n",
        "    prediction = model.predict(X_suffix)\n",
        "    # Select suffixes predicted as class 1\n",
        "    return [suffixes[i] for i in range(len(suffixes)) if prediction[0] == 1]\n",
        "\n",
        "# Step 7: Alignment using filtered suffixes\n",
        "def align_sequences(seq1, seq2, filtered_suffixes):\n",
        "    # A simple alignment function (for demonstration purposes)\n",
        "    aligned_seq1 = []\n",
        "    aligned_seq2 = []\n",
        "    for suffix in filtered_suffixes:\n",
        "        if suffix in seq2:\n",
        "            aligned_seq1.append(suffix)\n",
        "            aligned_seq2.append(suffix)\n",
        "        else:\n",
        "            aligned_seq1.append(\"-\")\n",
        "            aligned_seq2.append(\"-\")\n",
        "    return \"\".join(aligned_seq1), \"\".join(aligned_seq2)\n",
        "\n",
        "# Example RNA sequences to align\n",
        "sequence1 = \"AGCUAGUCA\"\n",
        "sequence2 = \"GCUAGUCA\"\n",
        "filtered_suffixes = filter_with_model(sequence1, model, vectorizer)\n",
        "aligned_seq1, aligned_seq2 = align_sequences(sequence1, sequence2, filtered_suffixes)\n",
        "\n",
        "print(f\"Filtered Suffixes: {filtered_suffixes}\")\n",
        "print(f\"Aligned Sequences:\\nSeq1: {aligned_seq1}\\nSeq2: {aligned_seq2}\")"
      ]
    }
  ]
}