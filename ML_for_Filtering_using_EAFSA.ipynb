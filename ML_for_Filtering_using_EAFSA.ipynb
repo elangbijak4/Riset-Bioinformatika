{
  "nbformat": 4,
  "nbformat_minor": 0,
  "metadata": {
    "colab": {
      "provenance": [],
      "authorship_tag": "ABX9TyMjPuObiApKtvilgdhCYP0u",
      "include_colab_link": true
    },
    "kernelspec": {
      "name": "python3",
      "display_name": "Python 3"
    },
    "language_info": {
      "name": "python"
    }
  },
  "cells": [
    {
      "cell_type": "markdown",
      "metadata": {
        "id": "view-in-github",
        "colab_type": "text"
      },
      "source": [
        "<a href=\"https://colab.research.google.com/github/elangbijak4/Riset-Bioinformatika/blob/main/ML_for_Filtering_using_EAFSA.ipynb\" target=\"_parent\"><img src=\"https://colab.research.google.com/assets/colab-badge.svg\" alt=\"Open In Colab\"/></a>"
      ]
    },
    {
      "cell_type": "code",
      "execution_count": 4,
      "metadata": {
        "colab": {
          "base_uri": "https://localhost:8080/"
        },
        "id": "L9v3zZpbeh7k",
        "outputId": "f13c6b8b-5405-43fa-d2f7-6d53f51e14a9"
      },
      "outputs": [
        {
          "output_type": "stream",
          "name": "stdout",
          "text": [
            "Filtered result for AGCUAG: [1]\n"
          ]
        }
      ],
      "source": [
        "# Import libraries\n",
        "import numpy as np\n",
        "from sklearn.linear_model import LogisticRegression\n",
        "from sklearn.model_selection import train_test_split\n",
        "from sklearn.feature_extraction.text import CountVectorizer\n",
        "\n",
        "# Step 1: Generate sample RNA sequences and labels\n",
        "rna_sequences = [\"AGCUAGUCA\", \"GCUAGUC\", \"AGUCA\", \"AAGCUAGU\", \"GGCUAGCUA\"]\n",
        "labels = [1, 0, 1, 1, 0]  # Example binary labels (e.g., functional vs non-functional RNA)\n",
        "\n",
        "# Step 2: Build suffix array\n",
        "def build_suffix_array(sequence):\n",
        "    suffixes = [(sequence[i:], i) for i in range(len(sequence))]\n",
        "    sorted_suffixes = sorted(suffixes, key=lambda x: x[0])\n",
        "    return [suffix[0] for suffix in sorted_suffixes]\n",
        "\n",
        "# Step 3: Extract suffix features\n",
        "def extract_suffix_features(sequences):\n",
        "    all_suffixes = []\n",
        "    for seq in sequences:\n",
        "        suffixes = build_suffix_array(seq)\n",
        "        all_suffixes.append(\" \".join(suffixes))  # Join suffixes as a single string\n",
        "    return all_suffixes\n",
        "\n",
        "suffix_features = extract_suffix_features(rna_sequences)\n",
        "\n",
        "# Step 4: Convert features to numerical form\n",
        "vectorizer = CountVectorizer()\n",
        "X = vectorizer.fit_transform(suffix_features)\n",
        "\n",
        "# Step 5: Train Logistic Regression for adaptive filtering\n",
        "# Use stratify to ensure both classes are represented in train and test splits\n",
        "X_train, X_test, y_train, y_test = train_test_split(\n",
        "    X, labels, test_size=0.3, random_state=42, stratify=labels\n",
        ")\n",
        "\n",
        "# Train the model\n",
        "model = LogisticRegression()\n",
        "model.fit(X_train, y_train)\n",
        "\n",
        "# Step 6: Use the model as an adaptive filter\n",
        "def filter_with_model(sequence, model, vectorizer):\n",
        "    suffixes = build_suffix_array(sequence)\n",
        "    suffix_features = [\" \".join(suffixes)]\n",
        "    X_suffix = vectorizer.transform(suffix_features)\n",
        "    prediction = model.predict(X_suffix)\n",
        "    return prediction\n",
        "\n",
        "# Example: Filter a new RNA sequence\n",
        "test_sequence = \"AGCUAG\"\n",
        "filtered_result = filter_with_model(test_sequence, model, vectorizer)\n",
        "print(f\"Filtered result for {test_sequence}: {filtered_result}\")"
      ]
    }
  ]
}