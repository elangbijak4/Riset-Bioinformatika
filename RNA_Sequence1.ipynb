{
  "nbformat": 4,
  "nbformat_minor": 0,
  "metadata": {
    "colab": {
      "provenance": [],
      "authorship_tag": "ABX9TyOUH/5emDT6iKz3ObB+7Bzm",
      "include_colab_link": true
    },
    "kernelspec": {
      "name": "python3",
      "display_name": "Python 3"
    },
    "language_info": {
      "name": "python"
    }
  },
  "cells": [
    {
      "cell_type": "markdown",
      "metadata": {
        "id": "view-in-github",
        "colab_type": "text"
      },
      "source": [
        "<a href=\"https://colab.research.google.com/github/elangbijak4/Riset-Bioinformatika/blob/main/RNA_Sequence1.ipynb\" target=\"_parent\"><img src=\"https://colab.research.google.com/assets/colab-badge.svg\" alt=\"Open In Colab\"/></a>"
      ]
    },
    {
      "cell_type": "code",
      "execution_count": 1,
      "metadata": {
        "colab": {
          "base_uri": "https://localhost:8080/",
          "height": 1000
        },
        "id": "tvNuDwlOcFyE",
        "outputId": "926d01f0-2a54-4276-a377-9a4f8fda0c8a"
      },
      "outputs": [
        {
          "output_type": "stream",
          "name": "stdout",
          "text": [
            "Total kombinasi gap: 55\n",
            "Total alignments generated: 453600\n",
            "Alignment 1:\n",
            "Seq1: -UGCU-A\n",
            "Seq2: AU-CG-\n"
          ]
        },
        {
          "output_type": "display_data",
          "data": {
            "text/plain": [
              "<Figure size 1200x200 with 1 Axes>"
            ],
            "image/png": "[encoded data removed]"
          },
          "metadata": {}
        },
        {
          "output_type": "stream",
          "name": "stdout",
          "text": [
            "Alignment 2:\n",
            "Seq1: -UGCU-A\n",
            "Seq2: GAU-C-\n"
          ]
        },
        {
          "output_type": "display_data",
          "data": {
            "text/plain": [
              "<Figure size 1200x200 with 1 Axes>"
            ],
            "image/png": "[encoded data removed]"
          },
          "metadata": {}
        },
        {
          "output_type": "stream",
          "name": "stdout",
          "text": [
            "Alignment 3:\n",
            "Seq1: -UGCU-A\n",
            "Seq2: UAC--G\n"
          ]
        },
        {
          "output_type": "display_data",
          "data": {
            "text/plain": [
              "<Figure size 1200x200 with 1 Axes>"
            ],
            "image/png": "[encoded data removed]"
          },
          "metadata": {}
        },
        {
          "output_type": "stream",
          "name": "stdout",
          "text": [
            "Alignment 4:\n",
            "Seq1: -UGCU-A\n",
            "Seq2: GC-AU-\n"
          ]
        },
        {
          "output_type": "display_data",
          "data": {
            "text/plain": [
              "<Figure size 1200x200 with 1 Axes>"
            ],
            "image/png": "[encoded data removed]"
          },
          "metadata": {}
        },
        {
          "output_type": "stream",
          "name": "stdout",
          "text": [
            "Alignment 5:\n",
            "Seq1: -UGCU-A\n",
            "Seq2: U-ACG-\n"
          ]
        },
        {
          "output_type": "display_data",
          "data": {
            "text/plain": [
              "<Figure size 1200x200 with 1 Axes>"
            ],
            "image/png": "[encoded data removed]"
          },
          "metadata": {}
        }
      ],
      "source": [
        "# Import necessary libraries\n",
        "import math\n",
        "import itertools\n",
        "from itertools import product\n",
        "import matplotlib.pyplot as plt\n",
        "\n",
        "def gap_combinations(seq_lengths, total_gaps):\n",
        "    alignment_length = sum(seq_lengths) + total_gaps\n",
        "    total_combinations = math.comb(alignment_length, total_gaps)\n",
        "    return total_combinations\n",
        "\n",
        "def generate_combinations(seq1, seq2, total_gaps):\n",
        "    # Generate all gap positions\n",
        "    gaps = ['-' for _ in range(total_gaps)]\n",
        "    seq1_list = list(seq1) + gaps\n",
        "    seq2_list = list(seq2) + gaps\n",
        "\n",
        "    # All permutations of gaps in sequences\n",
        "    seq1_perms = set(itertools.permutations(seq1_list))\n",
        "    seq2_perms = set(itertools.permutations(seq2_list))\n",
        "\n",
        "    # Generate all possible alignments\n",
        "    alignments = list(product(seq1_perms, seq2_perms))\n",
        "\n",
        "    return alignments\n",
        "\n",
        "def plot_alignment(alignment):\n",
        "    seq1, seq2 = alignment\n",
        "    fig, ax = plt.subplots(figsize=(12, 2))\n",
        "    ax.text(0.5, 0.7, \"\".join(seq1), fontsize=12, ha='center', va='center', family='monospace')\n",
        "    ax.text(0.5, 0.3, \"\".join(seq2), fontsize=12, ha='center', va='center', family='monospace')\n",
        "    ax.axis('off')\n",
        "    plt.show()\n",
        "\n",
        "# Example inputs\n",
        "seq1 = \"AUGCU\"\n",
        "seq2 = \"AUCG\"\n",
        "total_gaps = 2\n",
        "\n",
        "# Compute total combinations\n",
        "seq_lengths = [len(seq1), len(seq2)]\n",
        "combinations = gap_combinations(seq_lengths, total_gaps)\n",
        "print(f\"Total kombinasi gap: {combinations}\")\n",
        "\n",
        "# Generate and visualize combinations\n",
        "alignments = generate_combinations(seq1, seq2, total_gaps)\n",
        "print(f\"Total alignments generated: {len(alignments)}\")\n",
        "\n",
        "# Display first 5 alignments\n",
        "for i, alignment in enumerate(alignments[:5]):\n",
        "    print(f\"Alignment {i + 1}:\")\n",
        "    print(\"Seq1:\", \"\".join(alignment[0]))\n",
        "    print(\"Seq2:\", \"\".join(alignment[1]))\n",
        "    plot_alignment(alignment)"
      ]
    }
  ]
}