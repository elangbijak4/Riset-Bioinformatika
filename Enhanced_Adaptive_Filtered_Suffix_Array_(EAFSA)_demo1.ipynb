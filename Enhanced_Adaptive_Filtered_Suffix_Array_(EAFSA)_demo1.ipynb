{
  "nbformat": 4,
  "nbformat_minor": 0,
  "metadata": {
    "colab": {
      "provenance": [],
      "authorship_tag": "ABX9TyOrnVIH+i9QwHNV/l4fWV9q",
      "include_colab_link": true
    },
    "kernelspec": {
      "name": "python3",
      "display_name": "Python 3"
    },
    "language_info": {
      "name": "python"
    }
  },
  "cells": [
    {
      "cell_type": "markdown",
      "metadata": {
        "id": "view-in-github",
        "colab_type": "text"
      },
      "source": [
        "<a href=\"https://colab.research.google.com/github/elangbijak4/Riset-Bioinformatika/blob/main/Enhanced_Adaptive_Filtered_Suffix_Array_(EAFSA)_demo1.ipynb\" target=\"_parent\"><img src=\"https://colab.research.google.com/assets/colab-badge.svg\" alt=\"Open In Colab\"/></a>"
      ]
    },
    {
      "cell_type": "code",
      "execution_count": 1,
      "metadata": {
        "colab": {
          "base_uri": "https://localhost:8080/"
        },
        "id": "xDv8zdeQT6ad",
        "outputId": "16788457-0ab7-40dc-cf94-7c32559bd99e"
      },
      "outputs": [
        {
          "output_type": "stream",
          "name": "stdout",
          "text": [
            "Filtered Suffixes (Unsorted): [('U', 3)]\n",
            "Filtered Suffixes (Sorted): [('U', 3)]\n",
            "Filtered Suffix Array: [3]\n"
          ]
        }
      ],
      "source": [
        "# RNA Sequence\n",
        "sequence = \"AGCU\"\n",
        "\n",
        "# Step 1: Generate all suffixes\n",
        "suffixes = [(sequence[i:], i) for i in range(len(sequence))]\n",
        "\n",
        "# Step 2: Define complementary pairs filter\n",
        "def is_valid_suffix(suffix):\n",
        "    valid_pairs = [(\"A\", \"U\"), (\"U\", \"A\"), (\"G\", \"C\"), (\"C\", \"G\")]\n",
        "    for i in range(len(suffix) - 1):\n",
        "        if (suffix[i], suffix[i+1]) not in valid_pairs:\n",
        "            return False\n",
        "    return True\n",
        "\n",
        "# Step 3: Filter suffixes based on complementary pairs\n",
        "filtered_suffixes = [(suff, idx) for suff, idx in suffixes if is_valid_suffix(suff)]\n",
        "\n",
        "# Step 4: Sort filtered suffixes lexicographically\n",
        "sorted_filtered_suffixes = sorted(filtered_suffixes, key=lambda x: x[0])\n",
        "\n",
        "# Step 5: Extract sorted indices\n",
        "filtered_suffix_array = [suffix[1] for suffix in sorted_filtered_suffixes]\n",
        "\n",
        "# Output\n",
        "print(\"Filtered Suffixes (Unsorted):\", filtered_suffixes)\n",
        "print(\"Filtered Suffixes (Sorted):\", sorted_filtered_suffixes)\n",
        "print(\"Filtered Suffix Array:\", filtered_suffix_array)"
      ]
    }
  ]
}