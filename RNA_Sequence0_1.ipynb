{
  "nbformat": 4,
  "nbformat_minor": 0,
  "metadata": {
    "colab": {
      "provenance": [],
      "authorship_tag": "ABX9TyM6uRn8HTFEjdwqugLf8vi9",
      "include_colab_link": true
    },
    "kernelspec": {
      "name": "python3",
      "display_name": "Python 3"
    },
    "language_info": {
      "name": "python"
    }
  },
  "cells": [
    {
      "cell_type": "markdown",
      "metadata": {
        "id": "view-in-github",
        "colab_type": "text"
      },
      "source": [
        "<a href=\"https://colab.research.google.com/github/elangbijak4/Riset-Bioinformatika/blob/main/RNA_Sequence0_1.ipynb\" target=\"_parent\"><img src=\"https://colab.research.google.com/assets/colab-badge.svg\" alt=\"Open In Colab\"/></a>"
      ]
    },
    {
      "cell_type": "code",
      "execution_count": 2,
      "metadata": {
        "colab": {
          "base_uri": "https://localhost:8080/"
        },
        "id": "wb1KqHMJqUAA",
        "outputId": "4cea8a95-8421-4b85-b672-3f0a0e6792a7"
      },
      "outputs": [
        {
          "output_type": "stream",
          "name": "stdout",
          "text": [
            "Alignment Score: 2\n"
          ]
        }
      ],
      "source": [
        "def calculate_alignment_score(strand1, strand2, match_score=2, mismatch_score=-1, gap_penalty=-2):\n",
        "    \"\"\"\n",
        "    Calculate the alignment score for two RNA strands.\n",
        "\n",
        "    Args:\n",
        "        strand1 (str): The first RNA strand.\n",
        "        strand2 (str): The second RNA strand.\n",
        "        match_score (int): Score for a match. Default is +2.\n",
        "        mismatch_score (int): Score for a mismatch. Default is -1.\n",
        "        gap_penalty (int): Penalty for a gap. Default is -2.\n",
        "\n",
        "    Returns:\n",
        "        int: Total alignment score.\n",
        "    \"\"\"\n",
        "    # Ensure strands are of equal length by adding gaps if needed\n",
        "    if len(strand1) != len(strand2):\n",
        "        raise ValueError(\"Strands must be of the same length for this calculation.\")\n",
        "\n",
        "    total_score = 0\n",
        "\n",
        "    # Iterate through each position in the strands\n",
        "    for base1, base2 in zip(strand1, strand2):\n",
        "        if base1 == '-' or base2 == '-':  # Gap detected\n",
        "            total_score += gap_penalty\n",
        "        elif base1 == base2:  # Match detected\n",
        "            total_score += match_score\n",
        "        else:  # Mismatch detected\n",
        "            total_score += mismatch_score\n",
        "\n",
        "    return total_score\n",
        "\n",
        "# Example usage\n",
        "strand1 = \"AGUC-\"\n",
        "strand2 = \"AG-CU\"\n",
        "\n",
        "alignment_score = calculate_alignment_score(strand1, strand2)\n",
        "print(f\"Alignment Score: {alignment_score}\")"
      ]
    }
  ]
}