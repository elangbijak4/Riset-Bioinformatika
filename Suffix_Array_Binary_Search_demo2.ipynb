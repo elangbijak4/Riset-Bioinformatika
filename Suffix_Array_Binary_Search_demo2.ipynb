{
  "nbformat": 4,
  "nbformat_minor": 0,
  "metadata": {
    "colab": {
      "provenance": [],
      "authorship_tag": "ABX9TyP+iT9e0ItXOHYyZ2UbkGSU",
      "include_colab_link": true
    },
    "kernelspec": {
      "name": "python3",
      "display_name": "Python 3"
    },
    "language_info": {
      "name": "python"
    }
  },
  "cells": [
    {
      "cell_type": "markdown",
      "metadata": {
        "id": "view-in-github",
        "colab_type": "text"
      },
      "source": [
        "<a href=\"https://colab.research.google.com/github/elangbijak4/Riset-Bioinformatika/blob/main/Suffix_Array_Binary_Search_demo2.ipynb\" target=\"_parent\"><img src=\"https://colab.research.google.com/assets/colab-badge.svg\" alt=\"Open In Colab\"/></a>"
      ]
    },
    {
      "cell_type": "code",
      "execution_count": 1,
      "metadata": {
        "id": "XR7d0G7MN84J"
      },
      "outputs": [],
      "source": [
        "# RNA Sequence\n",
        "sequence = \"AGCU\"\n",
        "substring_to_find = \"GC\""
      ]
    },
    {
      "cell_type": "code",
      "source": [
        "# Step 1: Generate all suffixes\n",
        "suffixes = [(sequence[i:], i) for i in range(len(sequence))]"
      ],
      "metadata": {
        "id": "4op-XH_FONpf"
      },
      "execution_count": 2,
      "outputs": []
    },
    {
      "cell_type": "code",
      "source": [
        "suffixes"
      ],
      "metadata": {
        "colab": {
          "base_uri": "https://localhost:8080/"
        },
        "id": "drrSnetkOU89",
        "outputId": "3571729e-edea-4560-bdf1-1118c0f5cf0e"
      },
      "execution_count": 5,
      "outputs": [
        {
          "output_type": "execute_result",
          "data": {
            "text/plain": [
              "[('AGCU', 0), ('GCU', 1), ('CU', 2), ('U', 3)]"
            ]
          },
          "metadata": {},
          "execution_count": 5
        }
      ]
    },
    {
      "cell_type": "code",
      "source": [
        "# Step 2: Sort suffixes lexicographically\n",
        "sorted_suffixes = sorted(suffixes, key=lambda x: x[0])"
      ],
      "metadata": {
        "id": "uDqTf6RGOK99"
      },
      "execution_count": 3,
      "outputs": []
    },
    {
      "cell_type": "code",
      "source": [
        "sorted_suffixes"
      ],
      "metadata": {
        "colab": {
          "base_uri": "https://localhost:8080/"
        },
        "id": "zXe7jp7oOYRd",
        "outputId": "fa0e2183-b724-4da9-d9ef-bbd8459452b5"
      },
      "execution_count": 6,
      "outputs": [
        {
          "output_type": "execute_result",
          "data": {
            "text/plain": [
              "[('AGCU', 0), ('CU', 2), ('GCU', 1), ('U', 3)]"
            ]
          },
          "metadata": {},
          "execution_count": 6
        }
      ]
    },
    {
      "cell_type": "code",
      "source": [
        "# Extract sorted suffixes and their indices\n",
        "sorted_suffixes_only = [suff[0] for suff in sorted_suffixes]\n",
        "suffix_array = [suff[1] for suff in sorted_suffixes]"
      ],
      "metadata": {
        "id": "YpQlSahIOILd"
      },
      "execution_count": 7,
      "outputs": []
    },
    {
      "cell_type": "code",
      "source": [
        "sorted_suffixes_only"
      ],
      "metadata": {
        "colab": {
          "base_uri": "https://localhost:8080/"
        },
        "id": "fjsdNal_OeQ0",
        "outputId": "93bea1f4-2941-4ba2-9657-ec0d819d28f6"
      },
      "execution_count": 8,
      "outputs": [
        {
          "output_type": "execute_result",
          "data": {
            "text/plain": [
              "['AGCU', 'CU', 'GCU', 'U']"
            ]
          },
          "metadata": {},
          "execution_count": 8
        }
      ]
    },
    {
      "cell_type": "code",
      "source": [
        "suffix_array"
      ],
      "metadata": {
        "colab": {
          "base_uri": "https://localhost:8080/"
        },
        "id": "-vuxKKXGOhPO",
        "outputId": "9add97dd-e58b-4b9d-8986-20805adc5012"
      },
      "execution_count": 9,
      "outputs": [
        {
          "output_type": "execute_result",
          "data": {
            "text/plain": [
              "[0, 2, 1, 3]"
            ]
          },
          "metadata": {},
          "execution_count": 9
        }
      ]
    },
    {
      "cell_type": "code",
      "source": [
        "# Step 3: Binary search for the substring\n",
        "def binary_search_prefix(suffixes, substring):\n",
        "    \"\"\"Performs binary search to check if substring exists as a prefix.\"\"\"\n",
        "    low, high = 0, len(suffixes) - 1\n",
        "    while low <= high:\n",
        "        mid = (low + high) // 2\n",
        "        if suffixes[mid].startswith(substring):\n",
        "            return True  # Found a prefix match\n",
        "        elif suffixes[mid] < substring:\n",
        "            low = mid + 1\n",
        "        else:\n",
        "            high = mid - 1\n",
        "    return False  # Not found"
      ],
      "metadata": {
        "id": "BnHM5lW-OE8A"
      },
      "execution_count": 10,
      "outputs": []
    },
    {
      "cell_type": "code",
      "source": [
        "# Step 4: Search for the substring in sorted suffixes\n",
        "is_found = binary_search_prefix(sorted_suffixes_only, substring_to_find)"
      ],
      "metadata": {
        "id": "zRz_ZOykOCgj"
      },
      "execution_count": 11,
      "outputs": []
    },
    {
      "cell_type": "code",
      "source": [
        "is_found"
      ],
      "metadata": {
        "colab": {
          "base_uri": "https://localhost:8080/"
        },
        "id": "fg7CMqfmOprZ",
        "outputId": "645d04f9-67a9-4e3c-b2a2-e9e639b27a2f"
      },
      "execution_count": 12,
      "outputs": [
        {
          "output_type": "execute_result",
          "data": {
            "text/plain": [
              "True"
            ]
          },
          "metadata": {},
          "execution_count": 12
        }
      ]
    },
    {
      "cell_type": "code",
      "source": [
        "# Output\n",
        "print(\"Sorted Suffixes:\", sorted_suffixes_only)\n",
        "print(\"Suffix Array:\", suffix_array)\n",
        "print(f\"Does substring '{substring_to_find}' exist in '{sequence}'? {is_found}\")"
      ],
      "metadata": {
        "colab": {
          "base_uri": "https://localhost:8080/"
        },
        "id": "CGL8DrM7N_vK",
        "outputId": "96027ac3-8bc5-456f-b66a-8b8b1b6c15de"
      },
      "execution_count": 13,
      "outputs": [
        {
          "output_type": "stream",
          "name": "stdout",
          "text": [
            "Sorted Suffixes: ['AGCU', 'CU', 'GCU', 'U']\n",
            "Suffix Array: [0, 2, 1, 3]\n",
            "Does substring 'GC' exist in 'AGCU'? True\n"
          ]
        }
      ]
    }
  ]
}