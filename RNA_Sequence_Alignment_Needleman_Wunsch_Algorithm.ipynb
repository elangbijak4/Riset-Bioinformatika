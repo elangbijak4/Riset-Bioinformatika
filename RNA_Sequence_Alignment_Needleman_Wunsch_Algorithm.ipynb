{
  "nbformat": 4,
  "nbformat_minor": 0,
  "metadata": {
    "colab": {
      "provenance": [],
      "authorship_tag": "ABX9TyNSFeuwsLfqdlR7GzuAGvwI",
      "include_colab_link": true
    },
    "kernelspec": {
      "name": "python3",
      "display_name": "Python 3"
    },
    "language_info": {
      "name": "python"
    }
  },
  "cells": [
    {
      "cell_type": "markdown",
      "metadata": {
        "id": "view-in-github",
        "colab_type": "text"
      },
      "source": [
        "<a href=\"https://colab.research.google.com/github/elangbijak4/Riset-Bioinformatika/blob/main/RNA_Sequence_Alignment_Needleman_Wunsch_Algorithm.ipynb\" target=\"_parent\"><img src=\"https://colab.research.google.com/assets/colab-badge.svg\" alt=\"Open In Colab\"/></a>"
      ]
    },
    {
      "cell_type": "markdown",
      "source": [
        "## RNA Sequence Alignment: Needleman-Wunsch Algorithm"
      ],
      "metadata": {
        "id": "EGnrBKVCSBYs"
      }
    },
    {
      "cell_type": "code",
      "execution_count": 1,
      "metadata": {
        "id": "KSrTdeHEReA1"
      },
      "outputs": [],
      "source": [
        "# Step 1: Data Preparation\n",
        "seq1 = \"AGCU\"\n",
        "seq2 = \"ACGU\""
      ]
    },
    {
      "cell_type": "code",
      "source": [
        "# Scoring scheme\n",
        "match_score = 1\n",
        "mismatch_score = -1\n",
        "gap_penalty = -2"
      ],
      "metadata": {
        "id": "yWFdyNsQR9S6"
      },
      "execution_count": 2,
      "outputs": []
    },
    {
      "cell_type": "code",
      "source": [
        "# Step 2: Initialize matrices\n",
        "import numpy as np\n",
        "\n",
        "n = len(seq1) + 1\n",
        "m = len(seq2) + 1"
      ],
      "metadata": {
        "id": "7zSGQUGmR0SW"
      },
      "execution_count": 3,
      "outputs": []
    },
    {
      "cell_type": "code",
      "source": [
        "# Create scoring and traceback matrices\n",
        "score_matrix = np.zeros((n, m), dtype=int)\n",
        "trace_matrix = np.zeros((n, m), dtype=str)"
      ],
      "metadata": {
        "id": "Y_xcRLsBRx7-"
      },
      "execution_count": 4,
      "outputs": []
    },
    {
      "cell_type": "code",
      "source": [
        "# Initialize the first row and column with gap penalties\n",
        "for i in range(n):\n",
        "    score_matrix[i][0] = i * gap_penalty\n",
        "for j in range(m):\n",
        "    score_matrix[0][j] = j * gap_penalty"
      ],
      "metadata": {
        "id": "XvZUr6nnRu9a"
      },
      "execution_count": 5,
      "outputs": []
    },
    {
      "cell_type": "code",
      "source": [
        "# Fill matrices\n",
        "for i in range(1, n):\n",
        "    for j in range(1, m):\n",
        "        match = score_matrix[i-1][j-1] + (match_score if seq1[i-1] == seq2[j-1] else mismatch_score)\n",
        "        delete = score_matrix[i-1][j] + gap_penalty\n",
        "        insert = score_matrix[i][j-1] + gap_penalty\n",
        "        score_matrix[i][j] = max(match, delete, insert)\n",
        "        if score_matrix[i][j] == match:\n",
        "            trace_matrix[i][j] = \"↖\"\n",
        "        elif score_matrix[i][j] == delete:\n",
        "            trace_matrix[i][j] = \"↑\"\n",
        "        else:\n",
        "            trace_matrix[i][j] = \"←\""
      ],
      "metadata": {
        "id": "XkKfbhBsRroq"
      },
      "execution_count": 6,
      "outputs": []
    },
    {
      "cell_type": "code",
      "source": [
        "# Step 3: Traceback to get the alignment\n",
        "align1, align2 = \"\", \"\"\n",
        "i, j = n-1, m-1\n",
        "\n",
        "while i > 0 or j > 0:\n",
        "    if trace_matrix[i][j] == \"↖\":\n",
        "        align1 = seq1[i-1] + align1\n",
        "        align2 = seq2[j-1] + align2\n",
        "        i -= 1\n",
        "        j -= 1\n",
        "    elif trace_matrix[i][j] == \"↑\":\n",
        "        align1 = seq1[i-1] + align1\n",
        "        align2 = \"-\" + align2\n",
        "        i -= 1\n",
        "    else:\n",
        "        align1 = \"-\" + align1\n",
        "        align2 = seq2[j-1] + align2\n",
        "        j -= 1"
      ],
      "metadata": {
        "id": "Mfhn13dyRoS4"
      },
      "execution_count": 7,
      "outputs": []
    },
    {
      "cell_type": "code",
      "source": [
        "# Output results\n",
        "print(\"Alignment:\")\n",
        "print(align1)\n",
        "print(align2)\n",
        "print(\"\\nScore Matrix:\")\n",
        "print(score_matrix)"
      ],
      "metadata": {
        "colab": {
          "base_uri": "https://localhost:8080/"
        },
        "id": "KYfUBF0uRhkt",
        "outputId": "0d5fe865-c7be-4e07-fb8f-3b6f940571de"
      },
      "execution_count": 8,
      "outputs": [
        {
          "output_type": "stream",
          "name": "stdout",
          "text": [
            "Alignment:\n",
            "AGCU\n",
            "ACGU\n",
            "\n",
            "Score Matrix:\n",
            "[[ 0 -2 -4 -6 -8]\n",
            " [-2  1 -1 -3 -5]\n",
            " [-4 -1  0  0 -2]\n",
            " [-6 -3  0 -1 -1]\n",
            " [-8 -5 -2 -1  0]]\n"
          ]
        }
      ]
    }
  ]
}